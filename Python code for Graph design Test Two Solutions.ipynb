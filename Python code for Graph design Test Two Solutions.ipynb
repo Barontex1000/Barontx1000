{
 "cells": [
  {
   "cell_type": "markdown",
   "metadata": {},
   "source": [
    "    SEP17/U/180                                  TURYATEMBA BARON"
   ]
  },
  {
   "cell_type": "markdown",
   "metadata": {},
   "source": [
    "A **graph** is a data structure that is made up of a set of vertices(nodes) and edges."
   ]
  },
  {
   "cell_type": "code",
   "execution_count": 1,
   "metadata": {},
   "outputs": [],
   "source": [
    "twitter_graph = dict()\n",
    "twitter_graph['Bob'] = ['Jack', 'Nox', 'Willy']\n",
    "twitter_graph['Jack'] = ['Amy', 'Nox']\n",
    "twitter_graph['Amy'] = ['Willy', 'Bob']\n",
    "twitter_graph['Willy'] = ['Bob']\n",
    "twitter_graph['Nox'] = []"
   ]
  },
  {
   "cell_type": "markdown",
   "metadata": {},
   "source": [
    "In the above code, I used a dictionary to create a twitter followers graph. There are five users listed, and for each one of them, I created a list to keep track of who they follow. \n",
    "For example, Jack follows Amy and Nox, while Nox does not follow anybody."
   ]
  },
  {
   "cell_type": "code",
   "execution_count": 2,
   "metadata": {},
   "outputs": [
    {
     "data": {
      "text/plain": [
       "[[False, True, False, False, True],\n",
       " [False, False, True, True, True],\n",
       " [True, False, False, True, False],\n",
       " [False, False, False, False, False],\n",
       " [False, True, False, False, False]]"
      ]
     },
     "execution_count": 2,
     "metadata": {},
     "output_type": "execute_result"
    }
   ],
   "source": [
    "num_nodes = len(twitter_graph.keys())\n",
    "# Initialize all edges to False\n",
    "twitter_graph_matrix = [[False for _ in range(num_nodes)] for _ in range(num_nodes)]\n",
    "ids = dict()\n",
    "# Assign each node a unique id\n",
    "for i, node in enumerate(sorted(twitter_graph.keys())):\n",
    "    ids[node] = i\n",
    "# Fill in edges based on the adjancency list\n",
    "for node in twitter_graph.keys():\n",
    "    for target in twitter_graph[node]:\n",
    "        twitter_graph_matrix[ids[node]][ids[target]] = True\n",
    "twitter_graph_matrix"
   ]
  }
 ],
 "metadata": {
  "kernelspec": {
   "display_name": "Python 3",
   "language": "python",
   "name": "python3"
  },
  "language_info": {
   "codemirror_mode": {
    "name": "ipython",
    "version": 3
   },
   "file_extension": ".py",
   "mimetype": "text/x-python",
   "name": "python",
   "nbconvert_exporter": "python",
   "pygments_lexer": "ipython3",
   "version": "3.7.1"
  }
 },
 "nbformat": 4,
 "nbformat_minor": 2
}
